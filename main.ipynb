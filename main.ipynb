{
 "cells": [
  {
   "cell_type": "code",
   "execution_count": null,
   "id": "initial_id",
   "metadata": {
    "ExecuteTime": {
     "end_time": "2024-06-13T18:09:55.714508Z",
     "start_time": "2024-06-13T18:09:55.711017Z"
    },
    "collapsed": true
   },
   "outputs": [],
   "source": [
    "import os\n",
    "\n",
    "import openai\n",
    "import pandas as pd"
   ]
  },
  {
   "cell_type": "code",
   "execution_count": null,
   "id": "958219cb0950d520",
   "metadata": {
    "ExecuteTime": {
     "end_time": "2024-06-13T17:55:49.595460Z",
     "start_time": "2024-06-13T17:55:49.577484Z"
    }
   },
   "outputs": [],
   "source": [
    "df = pd.read_excel('data/example.xlsx')"
   ]
  },
  {
   "cell_type": "code",
   "execution_count": null,
   "id": "ea1dd44ed6adc470",
   "metadata": {
    "ExecuteTime": {
     "end_time": "2024-06-13T17:56:09.157079Z",
     "start_time": "2024-06-13T17:56:09.152805Z"
    }
   },
   "outputs": [],
   "source": [
    "df"
   ]
  },
  {
   "cell_type": "code",
   "execution_count": null,
   "id": "762faee5e9ec6169",
   "metadata": {
    "ExecuteTime": {
     "end_time": "2024-06-13T17:59:19.832182Z",
     "start_time": "2024-06-13T17:59:19.829377Z"
    }
   },
   "outputs": [],
   "source": [
    "system_prompt = 'Você é um assistente de uma aplicação, no formado de FAQ, e deve retornar as respostas com a resposta apenas se a pergunta tem relação com a aplicação.'"
   ]
  },
  {
   "cell_type": "code",
   "execution_count": null,
   "id": "3ffc479413d68635",
   "metadata": {
    "ExecuteTime": {
     "end_time": "2024-06-13T18:02:21.830684Z",
     "start_time": "2024-06-13T18:02:21.825798Z"
    }
   },
   "outputs": [],
   "source": [
    "all_conversations = []\n",
    "\n",
    "for i, row in df.iterrows():\n",
    "    all_conversations.append({\n",
    "        'messages': [\n",
    "            {\n",
    "                'role' : 'system',\n",
    "                'content': system_prompt\n",
    "            },\n",
    "            {\n",
    "                'role' : 'user',\n",
    "                'content': row['question']\n",
    "            },\n",
    "            {\n",
    "                'role' : 'assistant',\n",
    "                'content': row['response']\n",
    "            }\n",
    "        ]\n",
    "    })"
   ]
  },
  {
   "cell_type": "code",
   "execution_count": null,
   "id": "e6d90ca4a14e3d95",
   "metadata": {
    "ExecuteTime": {
     "end_time": "2024-06-13T18:03:49.004342Z",
     "start_time": "2024-06-13T18:03:48.985713Z"
    }
   },
   "outputs": [],
   "source": [
    "all_conversations"
   ]
  },
  {
   "cell_type": "code",
   "execution_count": null,
   "id": "f0d8e9e65ac23f7f",
   "metadata": {
    "ExecuteTime": {
     "end_time": "2024-06-13T18:07:56.220213Z",
     "start_time": "2024-06-13T18:07:56.209832Z"
    }
   },
   "outputs": [],
   "source": [
    "import json\n",
    "\n",
    "with open('data/instances.jsonl', 'w', encoding='utf-8') as f:\n",
    "    for conversation in all_conversations:\n",
    "        json.dump(conversation, f, ensure_ascii=False)\n",
    "        f.write('\\n')"
   ]
  },
  {
   "cell_type": "code",
   "execution_count": null,
   "id": "f2cc94431ae7780f",
   "metadata": {
    "ExecuteTime": {
     "end_time": "2024-06-13T18:11:33.631704Z",
     "start_time": "2024-06-13T18:11:33.612070Z"
    }
   },
   "outputs": [],
   "source": [
    "from dotenv import load_dotenv\n",
    "load_dotenv()\n",
    "\n",
    "client = openai.OpenAI(api_key=os.getenv('API_KEY'))"
   ]
  },
  {
   "cell_type": "code",
   "execution_count": null,
   "id": "5283202623e67ff5",
   "metadata": {
    "ExecuteTime": {
     "end_time": "2024-06-13T18:13:24.562765Z",
     "start_time": "2024-06-13T18:13:23.711656Z"
    }
   },
   "outputs": [],
   "source": [
    "with open('data/instances.jsonl', 'rb') as f:\n",
    "    response = client.files.create(file=f, purpose='fine-tune')"
   ]
  },
  {
   "cell_type": "code",
   "execution_count": null,
   "id": "d2d498fb909c1d18",
   "metadata": {
    "ExecuteTime": {
     "end_time": "2024-06-13T18:13:25.517424Z",
     "start_time": "2024-06-13T18:13:25.512834Z"
    }
   },
   "outputs": [],
   "source": [
    "response"
   ]
  },
  {
   "cell_type": "code",
   "execution_count": null,
   "id": "c9966ab1aa9cdb56",
   "metadata": {
    "ExecuteTime": {
     "end_time": "2024-06-13T18:14:13.433074Z",
     "start_time": "2024-06-13T18:14:13.427439Z"
    }
   },
   "outputs": [],
   "source": [
    "file_id = response.id\n",
    "file_id"
   ]
  },
  {
   "cell_type": "code",
   "execution_count": null,
   "id": "3a4bc08c8f276cab",
   "metadata": {
    "ExecuteTime": {
     "end_time": "2024-06-13T18:20:59.426339Z",
     "start_time": "2024-06-13T18:20:57.226838Z"
    }
   },
   "outputs": [],
   "source": [
    "response = client.fine_tuning.jobs.create(\n",
    "    training_file=file_id,\n",
    "    model='gpt-3.5-turbo'\n",
    ")"
   ]
  },
  {
   "cell_type": "code",
   "execution_count": null,
   "id": "a8e4801d72b61d6f",
   "metadata": {
    "ExecuteTime": {
     "end_time": "2024-06-13T18:21:18.128030Z",
     "start_time": "2024-06-13T18:21:18.123218Z"
    }
   },
   "outputs": [],
   "source": [
    "response # wait for finished_at not None"
   ]
  },
  {
   "cell_type": "code",
   "execution_count": null,
   "id": "69e942387b114b36",
   "metadata": {
    "ExecuteTime": {
     "end_time": "2024-06-13T18:22:09.634105Z",
     "start_time": "2024-06-13T18:22:09.628493Z"
    }
   },
   "outputs": [],
   "source": [
    "job_id = response.id\n",
    "job_id"
   ]
  },
  {
   "cell_type": "code",
   "execution_count": null,
   "id": "54dc6c45a9bd8334",
   "metadata": {
    "ExecuteTime": {
     "end_time": "2024-06-13T18:38:08.657783Z",
     "start_time": "2024-06-13T18:38:08.200732Z"
    }
   },
   "outputs": [],
   "source": [
    "client.fine_tuning.jobs.retrieve(job_id) # wait for finished_at not None and fine_tuned_model not None"
   ]
  },
  {
   "cell_type": "code",
   "execution_count": null,
   "id": "c8ec30d61a16cd63",
   "metadata": {
    "ExecuteTime": {
     "end_time": "2024-06-13T18:45:14.851068Z",
     "start_time": "2024-06-13T18:45:14.469767Z"
    }
   },
   "outputs": [],
   "source": [
    "fine_tuned_model = client.fine_tuning.jobs.retrieve(job_id).fine_tuned_model\n",
    "fine_tuned_model"
   ]
  }
 ],
 "metadata": {
  "kernelspec": {
   "display_name": "Python 3",
   "language": "python",
   "name": "python3"
  },
  "language_info": {
   "codemirror_mode": {
    "name": "ipython",
    "version": 2
   },
   "file_extension": ".py",
   "mimetype": "text/x-python",
   "name": "python",
   "nbconvert_exporter": "python",
   "pygments_lexer": "ipython2",
   "version": "2.7.6"
  }
 },
 "nbformat": 4,
 "nbformat_minor": 5
}
